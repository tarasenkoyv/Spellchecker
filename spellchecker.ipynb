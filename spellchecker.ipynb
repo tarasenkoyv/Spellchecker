{
 "cells": [
  {
   "cell_type": "code",
   "execution_count": 108,
   "id": "b128a318",
   "metadata": {},
   "outputs": [],
   "source": [
    "import pickle\n",
    "from error_model import ErrorModel\n",
    "from language_model import LanguageModel\n",
    "from trie import Trie\n",
    "import importlib\n",
    "import operator\n",
    "import re\n",
    "import sys\n",
    "import itertools\n",
    "import numpy as np"
   ]
  },
  {
   "cell_type": "code",
   "execution_count": 182,
   "id": "3c385f17",
   "metadata": {},
   "outputs": [
    {
     "data": {
      "text/plain": [
       "1088"
      ]
     },
     "execution_count": 182,
     "metadata": {},
     "output_type": "execute_result"
    }
   ],
   "source": [
    "ord('р')"
   ]
  },
  {
   "cell_type": "code",
   "execution_count": 180,
   "id": "ffb676e7",
   "metadata": {},
   "outputs": [],
   "source": [
    "token = 'http://site.com'\n",
    "#s = \"https://www.nltk.org/_modules/nltk/metrics/distance.html\""
   ]
  },
  {
   "cell_type": "code",
   "execution_count": 181,
   "id": "dc9c802c",
   "metadata": {},
   "outputs": [
    {
     "data": {
      "text/plain": [
       "<re.Match object; span=(0, 15), match='http://site.com'>"
      ]
     },
     "execution_count": 181,
     "metadata": {},
     "output_type": "execute_result"
    }
   ],
   "source": [
    "(re.search(re_email, token) or re.search(re_url, token))"
   ]
  },
  {
   "cell_type": "code",
   "execution_count": 179,
   "id": "40b47b11",
   "metadata": {},
   "outputs": [],
   "source": [
    "re_url = r\"^(https?:\\/\\/)?(?:[-\\w]+\\.)?([-\\w]+)\\.\\w+(?:\\.\\w+)?\\/?.*$\"\n",
    "re_email = r\"^([\\w\\.-]+)@([\\w\\.-]+)(\\.[\\w\\.]+)$\""
   ]
  },
  {
   "cell_type": "code",
   "execution_count": 178,
   "id": "b11d8d43",
   "metadata": {},
   "outputs": [
    {
     "data": {
      "text/plain": [
       "<re.Match object; span=(0, 15), match='http://site.com'>"
      ]
     },
     "execution_count": 178,
     "metadata": {},
     "output_type": "execute_result"
    }
   ],
   "source": [
    "re.search(re_url, s)"
   ]
  },
  {
   "cell_type": "code",
   "execution_count": 140,
   "id": "e4895f15",
   "metadata": {},
   "outputs": [
    {
     "data": {
      "text/plain": [
       "''"
      ]
     },
     "execution_count": 140,
     "metadata": {},
     "output_type": "execute_result"
    }
   ],
   "source": [
    "''[1:]"
   ]
  },
  {
   "cell_type": "code",
   "execution_count": 132,
   "id": "2bb92fe2",
   "metadata": {},
   "outputs": [
    {
     "data": {
      "text/plain": [
       "105"
      ]
     },
     "execution_count": 132,
     "metadata": {},
     "output_type": "execute_result"
    }
   ],
   "source": [
    "ord('i')"
   ]
  },
  {
   "cell_type": "code",
   "execution_count": 127,
   "id": "f39049dd",
   "metadata": {},
   "outputs": [],
   "source": [
    "l = list(range(10))"
   ]
  },
  {
   "cell_type": "code",
   "execution_count": 128,
   "id": "e8f2b8c4",
   "metadata": {},
   "outputs": [
    {
     "data": {
      "text/plain": [
       "[9, 4, 5, 0, 1, 2, 3, 7, 6, 8]"
      ]
     },
     "execution_count": 128,
     "metadata": {},
     "output_type": "execute_result"
    }
   ],
   "source": [
    "np.random.shuffle(l)\n",
    "l[:10]"
   ]
  },
  {
   "cell_type": "code",
   "execution_count": 106,
   "id": "3e1f4d68",
   "metadata": {},
   "outputs": [
    {
     "name": "stdout",
     "output_type": "stream",
     "text": [
      "([0, 1], [0, 1])\n",
      "([0, 1], [2])\n",
      "([2], [0, 1])\n",
      "([2], [2])\n"
     ]
    }
   ],
   "source": [
    "for var in itertools.product([[0, 1], [2]], repeat=2):\n",
    "    print(var)"
   ]
  },
  {
   "cell_type": "code",
   "execution_count": 93,
   "id": "a434e5ed",
   "metadata": {},
   "outputs": [],
   "source": [
    "import nltk"
   ]
  },
  {
   "cell_type": "code",
   "execution_count": 96,
   "id": "32d721fd",
   "metadata": {},
   "outputs": [],
   "source": [
    "from nltk.stem.snowball import SnowballStemmer "
   ]
  },
  {
   "cell_type": "code",
   "execution_count": 97,
   "id": "08b8fe50",
   "metadata": {},
   "outputs": [],
   "source": [
    "stemmer = SnowballStemmer(\"russian\")"
   ]
  },
  {
   "cell_type": "code",
   "execution_count": 102,
   "id": "e159c7cc",
   "metadata": {},
   "outputs": [
    {
     "data": {
      "text/plain": [
       "'человек'"
      ]
     },
     "execution_count": 102,
     "metadata": {},
     "output_type": "execute_result"
    }
   ],
   "source": [
    "stemmer.stem(\"человекам\")"
   ]
  },
  {
   "cell_type": "code",
   "execution_count": 95,
   "id": "216d790d",
   "metadata": {},
   "outputs": [
    {
     "data": {
      "text/plain": [
       "3"
      ]
     },
     "execution_count": 95,
     "metadata": {},
     "output_type": "execute_result"
    }
   ],
   "source": [
    "nltk.edit_distance(\"кошка\", \"собака\", transpositions=True)"
   ]
  },
  {
   "cell_type": "code",
   "execution_count": 83,
   "id": "56c8d3ca",
   "metadata": {},
   "outputs": [],
   "source": [
    "import nltk_util"
   ]
  },
  {
   "cell_type": "code",
   "execution_count": 2,
   "id": "fa84ad4e",
   "metadata": {},
   "outputs": [
    {
     "data": {
      "text/plain": [
       "<module 'trie' from 'C:\\\\Users\\\\taras\\\\Documents\\\\Аспирантура МГУ\\\\Техносфера mail.ru\\\\IR\\\\Spellcheck\\\\trie.py'>"
      ]
     },
     "execution_count": 2,
     "metadata": {},
     "output_type": "execute_result"
    }
   ],
   "source": [
    "import trie\n",
    "importlib.reload(trie)"
   ]
  },
  {
   "cell_type": "code",
   "execution_count": 110,
   "id": "573d3cf7",
   "metadata": {},
   "outputs": [],
   "source": [
    "with open('lm.pkl', 'rb') as f:\n",
    "    lm = pickle.load(f)\n",
    "\n",
    "with open('em.pkl', 'rb') as f:\n",
    "    em = pickle.load(f)\n",
    "\n",
    "trie_spellcheck = Trie(em, lm)\n",
    "trie_spellcheck.build()"
   ]
  },
  {
   "cell_type": "code",
   "execution_count": 156,
   "id": "45d8643e",
   "metadata": {},
   "outputs": [],
   "source": [
    "pattern = r\"(https?:\\/\\/)?(?:[-\\w]+\\.)?([-\\w]+)\\.\\w+(?:\\.\\w+)?\\/?.*\""
   ]
  },
  {
   "cell_type": "code",
   "execution_count": 38,
   "id": "f13c8cbc",
   "metadata": {},
   "outputs": [],
   "source": [
    "pattern1 = r\"((?:\\s+)|(\\S+))\""
   ]
  },
  {
   "cell_type": "code",
   "execution_count": 16,
   "id": "bd6d9a14",
   "metadata": {},
   "outputs": [],
   "source": [
    "request = \"люди  реальные- Литвин всегда был вор... почему не отдал долг Владимиру?... я с ним бабой рассчитался- наглая ложь\""
   ]
  },
  {
   "cell_type": "code",
   "execution_count": 170,
   "id": "d127f334",
   "metadata": {},
   "outputs": [
    {
     "data": {
      "text/plain": [
       "5"
      ]
     },
     "execution_count": 170,
     "metadata": {},
     "output_type": "execute_result"
    }
   ],
   "source": [
    "request.find(\"реальные\")"
   ]
  },
  {
   "cell_type": "code",
   "execution_count": 22,
   "id": "dd9d2f86",
   "metadata": {},
   "outputs": [
    {
     "data": {
      "text/plain": [
       "True"
      ]
     },
     "execution_count": 22,
     "metadata": {},
     "output_type": "execute_result"
    }
   ],
   "source": [
    "'ф'.isalnum()"
   ]
  },
  {
   "cell_type": "code",
   "execution_count": null,
   "id": "b4f38efd",
   "metadata": {},
   "outputs": [],
   "source": [
    "def is_space(token):\n",
    "    return "
   ]
  },
  {
   "cell_type": "code",
   "execution_count": null,
   "id": "adb485a0",
   "metadata": {},
   "outputs": [],
   "source": [
    "for item0, item1 in token_pairs:\n",
    "    if item0.find(' ') and :\n",
    "        "
   ]
  },
  {
   "cell_type": "code",
   "execution_count": 19,
   "id": "b317cf5f",
   "metadata": {},
   "outputs": [],
   "source": [
    "pattern_s = r\"\\s+\""
   ]
  },
  {
   "cell_type": "code",
   "execution_count": 21,
   "id": "a7a3d9ef",
   "metadata": {},
   "outputs": [
    {
     "data": {
      "text/plain": [
       "<re.Match object; span=(0, 1), match=' '>"
      ]
     },
     "execution_count": 21,
     "metadata": {},
     "output_type": "execute_result"
    }
   ],
   "source": [
    "re.search(pattern_s, ' a ')"
   ]
  },
  {
   "cell_type": "code",
   "execution_count": 39,
   "id": "e127d36a",
   "metadata": {},
   "outputs": [
    {
     "data": {
      "text/plain": [
       "[('люди', 'люди'),\n",
       " ('  ', ''),\n",
       " ('реальные-', 'реальные-'),\n",
       " (' ', ''),\n",
       " ('Литвин', 'Литвин'),\n",
       " (' ', ''),\n",
       " ('всегда', 'всегда'),\n",
       " (' ', ''),\n",
       " ('был', 'был'),\n",
       " (' ', ''),\n",
       " ('вор...', 'вор...'),\n",
       " (' ', ''),\n",
       " ('почему', 'почему'),\n",
       " (' ', ''),\n",
       " ('не', 'не'),\n",
       " (' ', ''),\n",
       " ('отдал', 'отдал'),\n",
       " (' ', ''),\n",
       " ('долг', 'долг'),\n",
       " (' ', ''),\n",
       " ('Владимиру?...', 'Владимиру?...'),\n",
       " (' ', ''),\n",
       " ('я', 'я'),\n",
       " (' ', ''),\n",
       " ('с', 'с'),\n",
       " (' ', ''),\n",
       " ('ним', 'ним'),\n",
       " (' ', ''),\n",
       " ('бабой', 'бабой'),\n",
       " (' ', ''),\n",
       " ('рассчитался-', 'рассчитался-'),\n",
       " (' ', ''),\n",
       " ('наглая', 'наглая'),\n",
       " (' ', ''),\n",
       " ('ложь', 'ложь')]"
      ]
     },
     "execution_count": 39,
     "metadata": {},
     "output_type": "execute_result"
    }
   ],
   "source": [
    "re.findall(pattern1, request)"
   ]
  },
  {
   "cell_type": "code",
   "execution_count": 42,
   "id": "f9fab5a5",
   "metadata": {},
   "outputs": [],
   "source": [
    "pattern2 = r\"((\\w+)|(?:\\W+))\""
   ]
  },
  {
   "cell_type": "code",
   "execution_count": 37,
   "id": "3e19eeab",
   "metadata": {},
   "outputs": [
    {
     "data": {
      "text/plain": [
       "[('Владимиру', 'Владимиру'), ('?...', '')]"
      ]
     },
     "execution_count": 37,
     "metadata": {},
     "output_type": "execute_result"
    }
   ],
   "source": [
    "re.findall(pattern2, 'Владимиру?...')"
   ]
  },
  {
   "cell_type": "code",
   "execution_count": 71,
   "id": "d9e19035",
   "metadata": {},
   "outputs": [
    {
     "data": {
      "text/plain": [
       "False"
      ]
     },
     "execution_count": 71,
     "metadata": {},
     "output_type": "execute_result"
    }
   ],
   "source": [
    "\"JsJ\".isupper()"
   ]
  },
  {
   "cell_type": "code",
   "execution_count": 91,
   "id": "c28e35db",
   "metadata": {},
   "outputs": [],
   "source": [
    "class Token:\n",
    "    def __init__(self, token, is_word, need_correct):\n",
    "        self.token = token\n",
    "        self.is_word = is_word\n",
    "        self.need_correct = need_correct\n",
    "        self.is_first_upper = token[0].isupper()\n",
    "        self.is_all_upper = token.isupper()\n",
    "        self.is_stop_word = self.is_word and \\\n",
    "            (self.token in (nltk_util.stop_words_en + nltk_util.stop_words_ru) or len(self.token) == 1)\n",
    "        self.need_correct = self.is_word and not self.is_stop_word\n",
    "\n",
    "    def __repr__(self):\n",
    "        rep = 'Token(' + self.token + ', ' + str(self.is_word) + ', ' \\\n",
    "            + str(self.need_correct) + ', is_first_upper=' + str(self.is_first_upper) \\\n",
    "            + ', is_stop_word=' + str(self.is_stop_word) +')'\n",
    "        return rep"
   ]
  },
  {
   "cell_type": "code",
   "execution_count": 68,
   "id": "58a47cb4",
   "metadata": {},
   "outputs": [],
   "source": [
    "re.search(re_digit, \"s8\")"
   ]
  },
  {
   "cell_type": "code",
   "execution_count": 85,
   "id": "c843cac6",
   "metadata": {},
   "outputs": [],
   "source": [
    "re_preprocess_req1 = r\"((?:\\s+)|(\\S+))\"\n",
    "re_preprocess_req2 = r\"((\\w+)|(?:\\W+))\"\n",
    "re_email = r\"([\\w\\.-]+)@([\\w\\.-]+)(\\.[\\w\\.]+)\"\n",
    "re_url = r\"(https?:\\/\\/)?(?:[-\\w]+\\.)?([-\\w]+)\\.\\w+(?:\\.\\w+)?\\/?.*\"\n",
    "re_digit = r\"^(\\d+)$\"\n",
    "\n",
    "def preprocess_req(req):\n",
    "    l1 = []\n",
    "    for t in re.findall(re_preprocess_req1, req):\n",
    "        l1.append(Token(t[0], t[1] != '', t[1] != ''))\n",
    "    l2= []\n",
    "    for t in l1:\n",
    "        if not t.is_word:\n",
    "            l2.append(t)\n",
    "            continue\n",
    "        if re.search(re_email, t.token) or re.search(re_url, t.token) \\\n",
    "            or re.search(re_digit, t.token):\n",
    "            t.need_correct = False\n",
    "            l2.append(t)\n",
    "        else:\n",
    "            for t2 in re.findall(re_preprocess_req2, t.token):\n",
    "                l2.append(Token(t2[0], t2[1] != '', t2[1] != ''))\n",
    "    return l2"
   ]
  },
  {
   "cell_type": "code",
   "execution_count": 92,
   "id": "8b425dfa",
   "metadata": {},
   "outputs": [
    {
     "data": {
      "text/plain": [
       "[Token(люди, True, True, is_first_upper=False, is_stop_word=False),\n",
       " Token(  , False, False, is_first_upper=False, is_stop_word=False),\n",
       " Token(реальные, True, True, is_first_upper=False, is_stop_word=False),\n",
       " Token(-, False, False, is_first_upper=False, is_stop_word=False),\n",
       " Token( , False, False, is_first_upper=False, is_stop_word=False),\n",
       " Token(Литвин, True, True, is_first_upper=True, is_stop_word=False),\n",
       " Token( , False, False, is_first_upper=False, is_stop_word=False),\n",
       " Token(всегда, True, False, is_first_upper=False, is_stop_word=True),\n",
       " Token( , False, False, is_first_upper=False, is_stop_word=False),\n",
       " Token(был, True, False, is_first_upper=False, is_stop_word=True),\n",
       " Token( , False, False, is_first_upper=False, is_stop_word=False),\n",
       " Token(вор, True, True, is_first_upper=False, is_stop_word=False),\n",
       " Token(..., False, False, is_first_upper=False, is_stop_word=False),\n",
       " Token( , False, False, is_first_upper=False, is_stop_word=False),\n",
       " Token(почему, True, True, is_first_upper=False, is_stop_word=False),\n",
       " Token( , False, False, is_first_upper=False, is_stop_word=False),\n",
       " Token(не, True, False, is_first_upper=False, is_stop_word=True),\n",
       " Token( , False, False, is_first_upper=False, is_stop_word=False),\n",
       " Token(отдал, True, True, is_first_upper=False, is_stop_word=False),\n",
       " Token( , False, False, is_first_upper=False, is_stop_word=False),\n",
       " Token(долг, True, True, is_first_upper=False, is_stop_word=False),\n",
       " Token( , False, False, is_first_upper=False, is_stop_word=False),\n",
       " Token(Владимиру, True, True, is_first_upper=True, is_stop_word=False),\n",
       " Token(?..., False, False, is_first_upper=False, is_stop_word=False),\n",
       " Token( , False, False, is_first_upper=False, is_stop_word=False),\n",
       " Token(я, True, False, is_first_upper=False, is_stop_word=True),\n",
       " Token( , False, False, is_first_upper=False, is_stop_word=False),\n",
       " Token(с, True, False, is_first_upper=False, is_stop_word=True),\n",
       " Token( , False, False, is_first_upper=False, is_stop_word=False),\n",
       " Token(ним, True, False, is_first_upper=False, is_stop_word=True),\n",
       " Token( , False, False, is_first_upper=False, is_stop_word=False),\n",
       " Token(бабой, True, True, is_first_upper=False, is_stop_word=False),\n",
       " Token( , False, False, is_first_upper=False, is_stop_word=False),\n",
       " Token(рассчитался, True, True, is_first_upper=False, is_stop_word=False),\n",
       " Token(-, False, False, is_first_upper=False, is_stop_word=False),\n",
       " Token( , False, False, is_first_upper=False, is_stop_word=False),\n",
       " Token(наглая, True, True, is_first_upper=False, is_stop_word=False),\n",
       " Token( , False, False, is_first_upper=False, is_stop_word=False),\n",
       " Token(ложь, True, True, is_first_upper=False, is_stop_word=False)]"
      ]
     },
     "execution_count": 92,
     "metadata": {},
     "output_type": "execute_result"
    }
   ],
   "source": [
    "preprocess_req(request)"
   ]
  },
  {
   "cell_type": "code",
   "execution_count": null,
   "id": "4d6ae1e9",
   "metadata": {},
   "outputs": [],
   "source": [
    "for r in request:\n",
    "    "
   ]
  },
  {
   "cell_type": "code",
   "execution_count": 145,
   "id": "6eeccdef",
   "metadata": {},
   "outputs": [
    {
     "name": "stdout",
     "output_type": "stream",
     "text": [
      "True\n"
     ]
    }
   ],
   "source": [
    "if re.search(pattern, \"site:ss.com\"):\n",
    "    print(\"True\")\n",
    "else:\n",
    "    print(\"False\")"
   ]
  },
  {
   "cell_type": "code",
   "execution_count": 116,
   "id": "a2a56849",
   "metadata": {},
   "outputs": [
    {
     "name": "stderr",
     "output_type": "stream",
     "text": [
      "spam\n"
     ]
    }
   ],
   "source": [
    "print(\"spam\", file=sys.stderr)"
   ]
  },
  {
   "cell_type": "code",
   "execution_count": 25,
   "id": "c7c51400",
   "metadata": {},
   "outputs": [],
   "source": [
    "orig_req = \"vk.com\""
   ]
  },
  {
   "cell_type": "code",
   "execution_count": 26,
   "id": "f813060e",
   "metadata": {},
   "outputs": [],
   "source": [
    "words = re.findall(r\"\\w+\", orig_req)"
   ]
  },
  {
   "cell_type": "code",
   "execution_count": 27,
   "id": "4866c7bb",
   "metadata": {},
   "outputs": [
    {
     "data": {
      "text/plain": [
       "['vk', 'com']"
      ]
     },
     "execution_count": 27,
     "metadata": {},
     "output_type": "execute_result"
    }
   ],
   "source": [
    "words"
   ]
  },
  {
   "cell_type": "code",
   "execution_count": 11,
   "id": "e2663469",
   "metadata": {},
   "outputs": [],
   "source": [
    "orig_req = \"tarasenko.yv@gmail.com\""
   ]
  },
  {
   "cell_type": "code",
   "execution_count": 111,
   "id": "2a01ccef",
   "metadata": {},
   "outputs": [],
   "source": [
    "candidates = trie_spellcheck.find_candidates(\"birday\", 6)"
   ]
  },
  {
   "cell_type": "code",
   "execution_count": 113,
   "id": "a01e95bb",
   "metadata": {},
   "outputs": [
    {
     "data": {
      "text/plain": [
       "[Candidate(word='friday', lm_weight=13.301921632616521, error_weight=5.844187086458591, weight=19.146108719075112),\n",
       " Candidate(word='brisay', lm_weight=15.866870990078057, error_weight=4.083437853973097, weight=19.950308844051154),\n",
       " Candidate(word='piradi', lm_weight=15.866870990078057, error_weight=4.520448648624521, weight=20.38731963870258),\n",
       " Candidate(word='priboy', lm_weight=15.173723809518112, error_weight=6.407581718892232, weight=21.581305528410343),\n",
       " Candidate(word='birdie', lm_weight=15.866870990078057, error_weight=5.906530176500753, weight=21.77340116657881),\n",
       " Candidate(word='berdoa', lm_weight=15.866870990078057, error_weight=5.974370758224473, weight=21.84124174830253)]"
      ]
     },
     "execution_count": 113,
     "metadata": {},
     "output_type": "execute_result"
    }
   ],
   "source": [
    "sorted(list(candidates.values()))"
   ]
  },
  {
   "cell_type": "code",
   "execution_count": 46,
   "id": "1a7244c6",
   "metadata": {},
   "outputs": [
    {
     "data": {
      "text/plain": [
       "7.472606810793185"
      ]
     },
     "execution_count": 46,
     "metadata": {},
     "output_type": "execute_result"
    }
   ],
   "source": [
    "candidates['мной'] < candidates['мнай']"
   ]
  },
  {
   "cell_type": "code",
   "execution_count": 38,
   "id": "e1dc2d10",
   "metadata": {},
   "outputs": [
    {
     "data": {
      "text/plain": [
       "[<trie.Candidate at 0x2890b2c1460>,\n",
       " <trie.Candidate at 0x2890b318d90>,\n",
       " <trie.Candidate at 0x2890b2e9070>,\n",
       " <trie.Candidate at 0x2890b28e7f0>,\n",
       " <trie.Candidate at 0x2890b3117f0>]"
      ]
     },
     "execution_count": 38,
     "metadata": {},
     "output_type": "execute_result"
    }
   ],
   "source": [
    "list(candidates.values())"
   ]
  },
  {
   "cell_type": "code",
   "execution_count": 36,
   "id": "550395af",
   "metadata": {},
   "outputs": [
    {
     "ename": "TypeError",
     "evalue": "sorted expected 1 argument, got 2",
     "output_type": "error",
     "traceback": [
      "\u001b[1;31m---------------------------------------------------------------------------\u001b[0m",
      "\u001b[1;31mTypeError\u001b[0m                                 Traceback (most recent call last)",
      "\u001b[1;32m~\\AppData\\Local\\Temp/ipykernel_16592/4201493300.py\u001b[0m in \u001b[0;36m<module>\u001b[1;34m\u001b[0m\n\u001b[1;32m----> 1\u001b[1;33m \u001b[0msorted\u001b[0m\u001b[1;33m(\u001b[0m\u001b[0mlist\u001b[0m\u001b[1;33m(\u001b[0m\u001b[0mcandidates\u001b[0m\u001b[1;33m.\u001b[0m\u001b[0mvalues\u001b[0m\u001b[1;33m(\u001b[0m\u001b[1;33m)\u001b[0m\u001b[1;33m)\u001b[0m\u001b[1;33m,\u001b[0m \u001b[1;32mlambda\u001b[0m \u001b[0mc\u001b[0m\u001b[1;33m:\u001b[0m \u001b[0mc\u001b[0m\u001b[1;33m.\u001b[0m\u001b[0merror_weight\u001b[0m \u001b[1;33m+\u001b[0m \u001b[0mc\u001b[0m\u001b[1;33m.\u001b[0m\u001b[0mlm_weight\u001b[0m\u001b[1;33m)\u001b[0m\u001b[1;33m\u001b[0m\u001b[1;33m\u001b[0m\u001b[0m\n\u001b[0m",
      "\u001b[1;31mTypeError\u001b[0m: sorted expected 1 argument, got 2"
     ]
    }
   ],
   "source": [
    "sorted(list(candidates.values()), lambda c: c.error_weight + c.lm_weight)"
   ]
  },
  {
   "cell_type": "code",
   "execution_count": 56,
   "id": "4ebf3873",
   "metadata": {},
   "outputs": [],
   "source": [
    "def word_generator(request, trie, max_candidates=4):\n",
    "    \"\"\"\n",
    "    Fixing typos in query words\n",
    "    \"\"\"\n",
    "    words = re.findall(r'\\w+', request)\n",
    "    fix_words_l = []\n",
    "    for word in words:\n",
    "        candidates = trie.find_candidates(word, max_candidates)\n",
    "        fix_words_l.append(list(candidates.values()))\n",
    "    return fix_words_l"
   ]
  },
  {
   "cell_type": "code",
   "execution_count": 32,
   "id": "9958fbdc",
   "metadata": {},
   "outputs": [
    {
     "data": {
      "text/plain": [
       "[1, 1, 3]"
      ]
     },
     "execution_count": 32,
     "metadata": {},
     "output_type": "execute_result"
    }
   ],
   "source": [
    "sorted([(1, 1), (3, , 1])"
   ]
  },
  {
   "cell_type": "code",
   "execution_count": 80,
   "id": "1a4a7c66",
   "metadata": {},
   "outputs": [
    {
     "data": {
      "text/plain": [
       "4.855408575059176"
      ]
     },
     "execution_count": 80,
     "metadata": {},
     "output_type": "execute_result"
    }
   ],
   "source": [
    "em.weights['']['t']"
   ]
  },
  {
   "cell_type": "code",
   "execution_count": 102,
   "id": "b566c21b",
   "metadata": {},
   "outputs": [],
   "source": [
    "res = word_generator(\"birday\", trie_spellcheck, 5)"
   ]
  },
  {
   "cell_type": "code",
   "execution_count": 103,
   "id": "37287f24",
   "metadata": {},
   "outputs": [
    {
     "data": {
      "text/plain": [
       "[Candidate(word='brisay', lm_weight=15.866870990078057, error_weight=4.083437853973097, weight=19.950308844051154),\n",
       " Candidate(word='piradi', lm_weight=15.866870990078057, error_weight=4.520448648624521, weight=20.38731963870258),\n",
       " Candidate(word='friday', lm_weight=13.301921632616521, error_weight=5.844187086458591, weight=19.146108719075112),\n",
       " Candidate(word='birdie', lm_weight=15.866870990078057, error_weight=5.906530176500753, weight=21.77340116657881),\n",
       " Candidate(word='berdoa', lm_weight=15.866870990078057, error_weight=5.974370758224473, weight=21.84124174830253)]"
      ]
     },
     "execution_count": 103,
     "metadata": {},
     "output_type": "execute_result"
    }
   ],
   "source": [
    "min(res)"
   ]
  }
 ],
 "metadata": {
  "kernelspec": {
   "display_name": "Python 3 (ipykernel)",
   "language": "python",
   "name": "python3"
  },
  "language_info": {
   "codemirror_mode": {
    "name": "ipython",
    "version": 3
   },
   "file_extension": ".py",
   "mimetype": "text/x-python",
   "name": "python",
   "nbconvert_exporter": "python",
   "pygments_lexer": "ipython3",
   "version": "3.8.5"
  }
 },
 "nbformat": 4,
 "nbformat_minor": 5
}
